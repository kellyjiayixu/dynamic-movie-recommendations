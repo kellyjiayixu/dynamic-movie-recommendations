{
 "cells": [
  {
   "cell_type": "code",
   "execution_count": 1,
   "metadata": {},
   "outputs": [],
   "source": [
    "import numpy as np\n",
    "import pandas as pd\n",
    "\n",
    "from Replayers import ABTestReplayer, EpsilonGreedyReplayer, ThompsonSamplingReplayer"
   ]
  },
  {
   "cell_type": "markdown",
   "metadata": {},
   "source": [
    "# Load historical data"
   ]
  },
  {
   "cell_type": "code",
   "execution_count": 2,
   "metadata": {},
   "outputs": [
    {
     "data": {
      "text/html": [
       "<div>\n",
       "<style scoped>\n",
       "    .dataframe tbody tr th:only-of-type {\n",
       "        vertical-align: middle;\n",
       "    }\n",
       "\n",
       "    .dataframe tbody tr th {\n",
       "        vertical-align: top;\n",
       "    }\n",
       "\n",
       "    .dataframe thead th {\n",
       "        text-align: right;\n",
       "    }\n",
       "</style>\n",
       "<table border=\"1\" class=\"dataframe\">\n",
       "  <thead>\n",
       "    <tr style=\"text-align: right;\">\n",
       "      <th></th>\n",
       "      <th>user_id</th>\n",
       "      <th>movie_id</th>\n",
       "      <th>rating</th>\n",
       "      <th>movie_title</th>\n",
       "    </tr>\n",
       "  </thead>\n",
       "  <tbody>\n",
       "    <tr>\n",
       "      <th>0</th>\n",
       "      <td>307</td>\n",
       "      <td>0</td>\n",
       "      <td>4</td>\n",
       "      <td>Toy Story</td>\n",
       "    </tr>\n",
       "    <tr>\n",
       "      <th>1</th>\n",
       "      <td>250</td>\n",
       "      <td>99</td>\n",
       "      <td>4</td>\n",
       "      <td>Fargo</td>\n",
       "    </tr>\n",
       "    <tr>\n",
       "      <th>2</th>\n",
       "      <td>24</td>\n",
       "      <td>180</td>\n",
       "      <td>5</td>\n",
       "      <td>Return of the Jedi</td>\n",
       "    </tr>\n",
       "    <tr>\n",
       "      <th>3</th>\n",
       "      <td>19</td>\n",
       "      <td>287</td>\n",
       "      <td>1</td>\n",
       "      <td>Scream</td>\n",
       "    </tr>\n",
       "    <tr>\n",
       "      <th>4</th>\n",
       "      <td>31</td>\n",
       "      <td>293</td>\n",
       "      <td>3</td>\n",
       "      <td>Liar Liar</td>\n",
       "    </tr>\n",
       "  </tbody>\n",
       "</table>\n",
       "</div>"
      ],
      "text/plain": [
       "   user_id  movie_id  rating         movie_title\n",
       "0      307         0       4           Toy Story\n",
       "1      250        99       4               Fargo\n",
       "2       24       180       5  Return of the Jedi\n",
       "3       19       287       1              Scream\n",
       "4       31       293       3           Liar Liar"
      ]
     },
     "execution_count": 2,
     "metadata": {},
     "output_type": "execute_result"
    }
   ],
   "source": [
    "rating_df = pd.read_csv('data/top-n-movies_user-ratings.csv').drop(columns='Unnamed: 0')\n",
    "rating_df.head()"
   ]
  },
  {
   "cell_type": "markdown",
   "metadata": {},
   "source": [
    "## Translate ratings into a binary reward value"
   ]
  },
  {
   "cell_type": "code",
   "execution_count": 3,
   "metadata": {},
   "outputs": [
    {
     "data": {
      "text/html": [
       "<div>\n",
       "<style scoped>\n",
       "    .dataframe tbody tr th:only-of-type {\n",
       "        vertical-align: middle;\n",
       "    }\n",
       "\n",
       "    .dataframe tbody tr th {\n",
       "        vertical-align: top;\n",
       "    }\n",
       "\n",
       "    .dataframe thead th {\n",
       "        text-align: right;\n",
       "    }\n",
       "</style>\n",
       "<table border=\"1\" class=\"dataframe\">\n",
       "  <thead>\n",
       "    <tr style=\"text-align: right;\">\n",
       "      <th></th>\n",
       "      <th>user_id</th>\n",
       "      <th>movie_id</th>\n",
       "      <th>rating</th>\n",
       "      <th>movie_title</th>\n",
       "      <th>reward</th>\n",
       "    </tr>\n",
       "  </thead>\n",
       "  <tbody>\n",
       "    <tr>\n",
       "      <th>0</th>\n",
       "      <td>307</td>\n",
       "      <td>0</td>\n",
       "      <td>4</td>\n",
       "      <td>Toy Story</td>\n",
       "      <td>0</td>\n",
       "    </tr>\n",
       "    <tr>\n",
       "      <th>1</th>\n",
       "      <td>250</td>\n",
       "      <td>99</td>\n",
       "      <td>4</td>\n",
       "      <td>Fargo</td>\n",
       "      <td>0</td>\n",
       "    </tr>\n",
       "    <tr>\n",
       "      <th>2</th>\n",
       "      <td>24</td>\n",
       "      <td>180</td>\n",
       "      <td>5</td>\n",
       "      <td>Return of the Jedi</td>\n",
       "      <td>1</td>\n",
       "    </tr>\n",
       "    <tr>\n",
       "      <th>3</th>\n",
       "      <td>19</td>\n",
       "      <td>287</td>\n",
       "      <td>1</td>\n",
       "      <td>Scream</td>\n",
       "      <td>0</td>\n",
       "    </tr>\n",
       "    <tr>\n",
       "      <th>4</th>\n",
       "      <td>31</td>\n",
       "      <td>293</td>\n",
       "      <td>3</td>\n",
       "      <td>Liar Liar</td>\n",
       "      <td>0</td>\n",
       "    </tr>\n",
       "  </tbody>\n",
       "</table>\n",
       "</div>"
      ],
      "text/plain": [
       "   user_id  movie_id  rating         movie_title  reward\n",
       "0      307         0       4           Toy Story       0\n",
       "1      250        99       4               Fargo       0\n",
       "2       24       180       5  Return of the Jedi       1\n",
       "3       19       287       1              Scream       0\n",
       "4       31       293       3           Liar Liar       0"
      ]
     },
     "execution_count": 3,
     "metadata": {},
     "output_type": "execute_result"
    }
   ],
   "source": [
    "reward_threshold = 4\n",
    "rating_df['reward'] = rating_df.eval('rating > @reward_threshold').astype(int)\n",
    "rating_df.head()"
   ]
  },
  {
   "cell_type": "markdown",
   "metadata": {},
   "source": [
    "# Set the parameters for the simulations"
   ]
  },
  {
   "cell_type": "code",
   "execution_count": 4,
   "metadata": {},
   "outputs": [],
   "source": [
    "n_visits = 20000\n",
    "n_iterations = 20\n",
    "\n",
    "reward_history = rating_df\n",
    "item_col_name = 'movie_id'\n",
    "visitor_col_name = 'user_id'\n",
    "reward_col_name = 'reward'"
   ]
  },
  {
   "cell_type": "markdown",
   "metadata": {},
   "source": [
    "# A/B Test Simulations"
   ]
  },
  {
   "cell_type": "markdown",
   "metadata": {},
   "source": [
    "## Test period = 1,000 visits"
   ]
  },
  {
   "cell_type": "markdown",
   "metadata": {},
   "source": [
    "### Run the test"
   ]
  },
  {
   "cell_type": "code",
   "execution_count": 5,
   "metadata": {},
   "outputs": [
    {
     "name": "stderr",
     "output_type": "stream",
     "text": [
      "100%|██████████| 20/20 [04:09<00:00, 12.48s/it]\n"
     ]
    }
   ],
   "source": [
    "n_test_visits = 1000\n",
    "ab_1k_results = ABTestReplayer(n_visits, n_test_visits, reward_history,\n",
    "                               item_col_name, visitor_col_name, reward_col_name,\n",
    "                               n_iterations=n_iterations).replay()"
   ]
  },
  {
   "cell_type": "code",
   "execution_count": 6,
   "metadata": {},
   "outputs": [
    {
     "data": {
      "text/html": [
       "<div>\n",
       "<style scoped>\n",
       "    .dataframe tbody tr th:only-of-type {\n",
       "        vertical-align: middle;\n",
       "    }\n",
       "\n",
       "    .dataframe tbody tr th {\n",
       "        vertical-align: top;\n",
       "    }\n",
       "\n",
       "    .dataframe thead th {\n",
       "        text-align: right;\n",
       "    }\n",
       "</style>\n",
       "<table border=\"1\" class=\"dataframe\">\n",
       "  <thead>\n",
       "    <tr style=\"text-align: right;\">\n",
       "      <th></th>\n",
       "      <th>iteration</th>\n",
       "      <th>visit</th>\n",
       "      <th>item_id</th>\n",
       "      <th>visitor_id</th>\n",
       "      <th>reward</th>\n",
       "      <th>total_reward</th>\n",
       "      <th>fraction_relevant</th>\n",
       "    </tr>\n",
       "  </thead>\n",
       "  <tbody>\n",
       "    <tr>\n",
       "      <th>0</th>\n",
       "      <td>0</td>\n",
       "      <td>0</td>\n",
       "      <td>120</td>\n",
       "      <td>12</td>\n",
       "      <td>1</td>\n",
       "      <td>1</td>\n",
       "      <td>1.000000</td>\n",
       "    </tr>\n",
       "    <tr>\n",
       "      <th>1</th>\n",
       "      <td>0</td>\n",
       "      <td>1</td>\n",
       "      <td>299</td>\n",
       "      <td>783</td>\n",
       "      <td>0</td>\n",
       "      <td>1</td>\n",
       "      <td>0.500000</td>\n",
       "    </tr>\n",
       "    <tr>\n",
       "      <th>2</th>\n",
       "      <td>0</td>\n",
       "      <td>2</td>\n",
       "      <td>49</td>\n",
       "      <td>649</td>\n",
       "      <td>1</td>\n",
       "      <td>2</td>\n",
       "      <td>0.666667</td>\n",
       "    </tr>\n",
       "    <tr>\n",
       "      <th>3</th>\n",
       "      <td>0</td>\n",
       "      <td>3</td>\n",
       "      <td>49</td>\n",
       "      <td>837</td>\n",
       "      <td>1</td>\n",
       "      <td>3</td>\n",
       "      <td>0.750000</td>\n",
       "    </tr>\n",
       "    <tr>\n",
       "      <th>4</th>\n",
       "      <td>0</td>\n",
       "      <td>4</td>\n",
       "      <td>49</td>\n",
       "      <td>483</td>\n",
       "      <td>1</td>\n",
       "      <td>4</td>\n",
       "      <td>0.800000</td>\n",
       "    </tr>\n",
       "  </tbody>\n",
       "</table>\n",
       "</div>"
      ],
      "text/plain": [
       "   iteration  visit  item_id  visitor_id  reward  total_reward  \\\n",
       "0          0      0      120          12       1             1   \n",
       "1          0      1      299         783       0             1   \n",
       "2          0      2       49         649       1             2   \n",
       "3          0      3       49         837       1             3   \n",
       "4          0      4       49         483       1             4   \n",
       "\n",
       "   fraction_relevant  \n",
       "0           1.000000  \n",
       "1           0.500000  \n",
       "2           0.666667  \n",
       "3           0.750000  \n",
       "4           0.800000  "
      ]
     },
     "execution_count": 6,
     "metadata": {},
     "output_type": "execute_result"
    }
   ],
   "source": [
    "ab_1k_results_df = pd.DataFrame(ab_1k_results)\n",
    "ab_1k_results_df.head()"
   ]
  },
  {
   "cell_type": "markdown",
   "metadata": {},
   "source": [
    "### Save the output"
   ]
  },
  {
   "cell_type": "code",
   "execution_count": 7,
   "metadata": {},
   "outputs": [],
   "source": [
    "ab_1k_results_df.to_csv('output/ab_test_1k.csv')"
   ]
  },
  {
   "cell_type": "markdown",
   "metadata": {},
   "source": [
    "## Test period = 5,000 visits"
   ]
  },
  {
   "cell_type": "markdown",
   "metadata": {},
   "source": [
    "### Run the test"
   ]
  },
  {
   "cell_type": "code",
   "execution_count": 8,
   "metadata": {},
   "outputs": [
    {
     "name": "stderr",
     "output_type": "stream",
     "text": [
      "100%|██████████| 20/20 [04:11<00:00, 12.57s/it]\n"
     ]
    }
   ],
   "source": [
    "n_test_visits = 5000\n",
    "ab_5k_results = ABTestReplayer(n_visits, n_test_visits, reward_history,\n",
    "                               item_col_name, visitor_col_name, reward_col_name,\n",
    "                               n_iterations=n_iterations).replay()"
   ]
  },
  {
   "cell_type": "code",
   "execution_count": 9,
   "metadata": {},
   "outputs": [
    {
     "data": {
      "text/html": [
       "<div>\n",
       "<style scoped>\n",
       "    .dataframe tbody tr th:only-of-type {\n",
       "        vertical-align: middle;\n",
       "    }\n",
       "\n",
       "    .dataframe tbody tr th {\n",
       "        vertical-align: top;\n",
       "    }\n",
       "\n",
       "    .dataframe thead th {\n",
       "        text-align: right;\n",
       "    }\n",
       "</style>\n",
       "<table border=\"1\" class=\"dataframe\">\n",
       "  <thead>\n",
       "    <tr style=\"text-align: right;\">\n",
       "      <th></th>\n",
       "      <th>iteration</th>\n",
       "      <th>visit</th>\n",
       "      <th>item_id</th>\n",
       "      <th>visitor_id</th>\n",
       "      <th>reward</th>\n",
       "      <th>total_reward</th>\n",
       "      <th>fraction_relevant</th>\n",
       "    </tr>\n",
       "  </thead>\n",
       "  <tbody>\n",
       "    <tr>\n",
       "      <th>0</th>\n",
       "      <td>0</td>\n",
       "      <td>0</td>\n",
       "      <td>120</td>\n",
       "      <td>12</td>\n",
       "      <td>1</td>\n",
       "      <td>1</td>\n",
       "      <td>1.000000</td>\n",
       "    </tr>\n",
       "    <tr>\n",
       "      <th>1</th>\n",
       "      <td>0</td>\n",
       "      <td>1</td>\n",
       "      <td>299</td>\n",
       "      <td>783</td>\n",
       "      <td>0</td>\n",
       "      <td>1</td>\n",
       "      <td>0.500000</td>\n",
       "    </tr>\n",
       "    <tr>\n",
       "      <th>2</th>\n",
       "      <td>0</td>\n",
       "      <td>2</td>\n",
       "      <td>49</td>\n",
       "      <td>649</td>\n",
       "      <td>1</td>\n",
       "      <td>2</td>\n",
       "      <td>0.666667</td>\n",
       "    </tr>\n",
       "    <tr>\n",
       "      <th>3</th>\n",
       "      <td>0</td>\n",
       "      <td>3</td>\n",
       "      <td>49</td>\n",
       "      <td>837</td>\n",
       "      <td>1</td>\n",
       "      <td>3</td>\n",
       "      <td>0.750000</td>\n",
       "    </tr>\n",
       "    <tr>\n",
       "      <th>4</th>\n",
       "      <td>0</td>\n",
       "      <td>4</td>\n",
       "      <td>49</td>\n",
       "      <td>483</td>\n",
       "      <td>1</td>\n",
       "      <td>4</td>\n",
       "      <td>0.800000</td>\n",
       "    </tr>\n",
       "  </tbody>\n",
       "</table>\n",
       "</div>"
      ],
      "text/plain": [
       "   iteration  visit  item_id  visitor_id  reward  total_reward  \\\n",
       "0          0      0      120          12       1             1   \n",
       "1          0      1      299         783       0             1   \n",
       "2          0      2       49         649       1             2   \n",
       "3          0      3       49         837       1             3   \n",
       "4          0      4       49         483       1             4   \n",
       "\n",
       "   fraction_relevant  \n",
       "0           1.000000  \n",
       "1           0.500000  \n",
       "2           0.666667  \n",
       "3           0.750000  \n",
       "4           0.800000  "
      ]
     },
     "execution_count": 9,
     "metadata": {},
     "output_type": "execute_result"
    }
   ],
   "source": [
    "ab_5k_results_df = pd.DataFrame(ab_5k_results)\n",
    "ab_5k_results_df.head()"
   ]
  },
  {
   "cell_type": "markdown",
   "metadata": {},
   "source": [
    "### Save the output"
   ]
  },
  {
   "cell_type": "code",
   "execution_count": 10,
   "metadata": {},
   "outputs": [],
   "source": [
    "ab_5k_results_df.to_csv('output/ab_test_5k.csv')"
   ]
  },
  {
   "cell_type": "markdown",
   "metadata": {},
   "source": [
    "# $\\epsilon$-Greedy Simulations"
   ]
  },
  {
   "cell_type": "markdown",
   "metadata": {},
   "source": [
    "## $\\epsilon$ = 0.05"
   ]
  },
  {
   "cell_type": "markdown",
   "metadata": {},
   "source": [
    "### Run the test"
   ]
  },
  {
   "cell_type": "code",
   "execution_count": 11,
   "metadata": {},
   "outputs": [
    {
     "name": "stderr",
     "output_type": "stream",
     "text": [
      "100%|██████████| 20/20 [04:11<00:00, 12.58s/it]\n"
     ]
    }
   ],
   "source": [
    "epsilon = 0.05\n",
    "epsilon_05_results = EpsilonGreedyReplayer(epsilon, n_visits, reward_history,\n",
    "                                           item_col_name, visitor_col_name, reward_col_name,\n",
    "                                           n_iterations=n_iterations).replay()"
   ]
  },
  {
   "cell_type": "code",
   "execution_count": 12,
   "metadata": {},
   "outputs": [
    {
     "data": {
      "text/html": [
       "<div>\n",
       "<style scoped>\n",
       "    .dataframe tbody tr th:only-of-type {\n",
       "        vertical-align: middle;\n",
       "    }\n",
       "\n",
       "    .dataframe tbody tr th {\n",
       "        vertical-align: top;\n",
       "    }\n",
       "\n",
       "    .dataframe thead th {\n",
       "        text-align: right;\n",
       "    }\n",
       "</style>\n",
       "<table border=\"1\" class=\"dataframe\">\n",
       "  <thead>\n",
       "    <tr style=\"text-align: right;\">\n",
       "      <th></th>\n",
       "      <th>iteration</th>\n",
       "      <th>visit</th>\n",
       "      <th>item_id</th>\n",
       "      <th>visitor_id</th>\n",
       "      <th>reward</th>\n",
       "      <th>total_reward</th>\n",
       "      <th>fraction_relevant</th>\n",
       "    </tr>\n",
       "  </thead>\n",
       "  <tbody>\n",
       "    <tr>\n",
       "      <th>0</th>\n",
       "      <td>0</td>\n",
       "      <td>0</td>\n",
       "      <td>0</td>\n",
       "      <td>12</td>\n",
       "      <td>0</td>\n",
       "      <td>0</td>\n",
       "      <td>0.0</td>\n",
       "    </tr>\n",
       "    <tr>\n",
       "      <th>1</th>\n",
       "      <td>0</td>\n",
       "      <td>1</td>\n",
       "      <td>257</td>\n",
       "      <td>58</td>\n",
       "      <td>0</td>\n",
       "      <td>0</td>\n",
       "      <td>0.0</td>\n",
       "    </tr>\n",
       "    <tr>\n",
       "      <th>2</th>\n",
       "      <td>0</td>\n",
       "      <td>2</td>\n",
       "      <td>0</td>\n",
       "      <td>222</td>\n",
       "      <td>0</td>\n",
       "      <td>0</td>\n",
       "      <td>0.0</td>\n",
       "    </tr>\n",
       "    <tr>\n",
       "      <th>3</th>\n",
       "      <td>0</td>\n",
       "      <td>3</td>\n",
       "      <td>0</td>\n",
       "      <td>830</td>\n",
       "      <td>0</td>\n",
       "      <td>0</td>\n",
       "      <td>0.0</td>\n",
       "    </tr>\n",
       "    <tr>\n",
       "      <th>4</th>\n",
       "      <td>0</td>\n",
       "      <td>4</td>\n",
       "      <td>0</td>\n",
       "      <td>313</td>\n",
       "      <td>1</td>\n",
       "      <td>1</td>\n",
       "      <td>0.2</td>\n",
       "    </tr>\n",
       "  </tbody>\n",
       "</table>\n",
       "</div>"
      ],
      "text/plain": [
       "   iteration  visit  item_id  visitor_id  reward  total_reward  \\\n",
       "0          0      0        0          12       0             0   \n",
       "1          0      1      257          58       0             0   \n",
       "2          0      2        0         222       0             0   \n",
       "3          0      3        0         830       0             0   \n",
       "4          0      4        0         313       1             1   \n",
       "\n",
       "   fraction_relevant  \n",
       "0                0.0  \n",
       "1                0.0  \n",
       "2                0.0  \n",
       "3                0.0  \n",
       "4                0.2  "
      ]
     },
     "execution_count": 12,
     "metadata": {},
     "output_type": "execute_result"
    }
   ],
   "source": [
    "epsilon_05_results_df = pd.DataFrame(epsilon_05_results)\n",
    "epsilon_05_results_df.head()"
   ]
  },
  {
   "cell_type": "markdown",
   "metadata": {},
   "source": [
    "### Save the output"
   ]
  },
  {
   "cell_type": "code",
   "execution_count": 13,
   "metadata": {},
   "outputs": [],
   "source": [
    "epsilon_05_results_df.to_csv('output/epsilon_greedy_05.csv')"
   ]
  },
  {
   "cell_type": "markdown",
   "metadata": {},
   "source": [
    "## $\\epsilon$ = 0.10"
   ]
  },
  {
   "cell_type": "markdown",
   "metadata": {},
   "source": [
    "### Run the test"
   ]
  },
  {
   "cell_type": "code",
   "execution_count": 14,
   "metadata": {},
   "outputs": [
    {
     "name": "stderr",
     "output_type": "stream",
     "text": [
      "100%|██████████| 20/20 [04:13<00:00, 12.66s/it]\n"
     ]
    }
   ],
   "source": [
    "epsilon = 0.10\n",
    "epsilon_10_results = EpsilonGreedyReplayer(epsilon, n_visits, reward_history,\n",
    "                                           item_col_name, visitor_col_name, reward_col_name,\n",
    "                                           n_iterations=n_iterations).replay()"
   ]
  },
  {
   "cell_type": "code",
   "execution_count": 15,
   "metadata": {},
   "outputs": [
    {
     "data": {
      "text/html": [
       "<div>\n",
       "<style scoped>\n",
       "    .dataframe tbody tr th:only-of-type {\n",
       "        vertical-align: middle;\n",
       "    }\n",
       "\n",
       "    .dataframe tbody tr th {\n",
       "        vertical-align: top;\n",
       "    }\n",
       "\n",
       "    .dataframe thead th {\n",
       "        text-align: right;\n",
       "    }\n",
       "</style>\n",
       "<table border=\"1\" class=\"dataframe\">\n",
       "  <thead>\n",
       "    <tr style=\"text-align: right;\">\n",
       "      <th></th>\n",
       "      <th>iteration</th>\n",
       "      <th>visit</th>\n",
       "      <th>item_id</th>\n",
       "      <th>visitor_id</th>\n",
       "      <th>reward</th>\n",
       "      <th>total_reward</th>\n",
       "      <th>fraction_relevant</th>\n",
       "    </tr>\n",
       "  </thead>\n",
       "  <tbody>\n",
       "    <tr>\n",
       "      <th>0</th>\n",
       "      <td>0</td>\n",
       "      <td>0</td>\n",
       "      <td>0</td>\n",
       "      <td>12</td>\n",
       "      <td>0</td>\n",
       "      <td>0</td>\n",
       "      <td>0.0</td>\n",
       "    </tr>\n",
       "    <tr>\n",
       "      <th>1</th>\n",
       "      <td>0</td>\n",
       "      <td>1</td>\n",
       "      <td>257</td>\n",
       "      <td>58</td>\n",
       "      <td>0</td>\n",
       "      <td>0</td>\n",
       "      <td>0.0</td>\n",
       "    </tr>\n",
       "    <tr>\n",
       "      <th>2</th>\n",
       "      <td>0</td>\n",
       "      <td>2</td>\n",
       "      <td>0</td>\n",
       "      <td>222</td>\n",
       "      <td>0</td>\n",
       "      <td>0</td>\n",
       "      <td>0.0</td>\n",
       "    </tr>\n",
       "    <tr>\n",
       "      <th>3</th>\n",
       "      <td>0</td>\n",
       "      <td>3</td>\n",
       "      <td>0</td>\n",
       "      <td>830</td>\n",
       "      <td>0</td>\n",
       "      <td>0</td>\n",
       "      <td>0.0</td>\n",
       "    </tr>\n",
       "    <tr>\n",
       "      <th>4</th>\n",
       "      <td>0</td>\n",
       "      <td>4</td>\n",
       "      <td>0</td>\n",
       "      <td>313</td>\n",
       "      <td>1</td>\n",
       "      <td>1</td>\n",
       "      <td>0.2</td>\n",
       "    </tr>\n",
       "  </tbody>\n",
       "</table>\n",
       "</div>"
      ],
      "text/plain": [
       "   iteration  visit  item_id  visitor_id  reward  total_reward  \\\n",
       "0          0      0        0          12       0             0   \n",
       "1          0      1      257          58       0             0   \n",
       "2          0      2        0         222       0             0   \n",
       "3          0      3        0         830       0             0   \n",
       "4          0      4        0         313       1             1   \n",
       "\n",
       "   fraction_relevant  \n",
       "0                0.0  \n",
       "1                0.0  \n",
       "2                0.0  \n",
       "3                0.0  \n",
       "4                0.2  "
      ]
     },
     "execution_count": 15,
     "metadata": {},
     "output_type": "execute_result"
    }
   ],
   "source": [
    "epsilon_10_results_df = pd.DataFrame(epsilon_10_results)\n",
    "epsilon_10_results_df.head()"
   ]
  },
  {
   "cell_type": "markdown",
   "metadata": {},
   "source": [
    "### Save the output"
   ]
  },
  {
   "cell_type": "code",
   "execution_count": 16,
   "metadata": {},
   "outputs": [],
   "source": [
    "epsilon_10_results_df.to_csv('output/epsilon_greedy_10.csv')"
   ]
  },
  {
   "cell_type": "markdown",
   "metadata": {},
   "source": [
    "# Thompson Sampling Simulations"
   ]
  },
  {
   "cell_type": "markdown",
   "metadata": {},
   "source": [
    "### Run the test"
   ]
  },
  {
   "cell_type": "code",
   "execution_count": 17,
   "metadata": {},
   "outputs": [
    {
     "name": "stderr",
     "output_type": "stream",
     "text": [
      "100%|██████████| 20/20 [04:11<00:00, 12.59s/it]\n"
     ]
    }
   ],
   "source": [
    "thompson_results = ThompsonSamplingReplayer(n_visits, reward_history,\n",
    "                                            item_col_name, visitor_col_name, reward_col_name,\n",
    "                                            n_iterations=n_iterations).replay()"
   ]
  },
  {
   "cell_type": "code",
   "execution_count": 18,
   "metadata": {},
   "outputs": [
    {
     "data": {
      "text/html": [
       "<div>\n",
       "<style scoped>\n",
       "    .dataframe tbody tr th:only-of-type {\n",
       "        vertical-align: middle;\n",
       "    }\n",
       "\n",
       "    .dataframe tbody tr th {\n",
       "        vertical-align: top;\n",
       "    }\n",
       "\n",
       "    .dataframe thead th {\n",
       "        text-align: right;\n",
       "    }\n",
       "</style>\n",
       "<table border=\"1\" class=\"dataframe\">\n",
       "  <thead>\n",
       "    <tr style=\"text-align: right;\">\n",
       "      <th></th>\n",
       "      <th>iteration</th>\n",
       "      <th>visit</th>\n",
       "      <th>item_id</th>\n",
       "      <th>visitor_id</th>\n",
       "      <th>reward</th>\n",
       "      <th>total_reward</th>\n",
       "      <th>fraction_relevant</th>\n",
       "    </tr>\n",
       "  </thead>\n",
       "  <tbody>\n",
       "    <tr>\n",
       "      <th>0</th>\n",
       "      <td>0</td>\n",
       "      <td>0</td>\n",
       "      <td>299</td>\n",
       "      <td>12</td>\n",
       "      <td>0</td>\n",
       "      <td>0</td>\n",
       "      <td>0.000000</td>\n",
       "    </tr>\n",
       "    <tr>\n",
       "      <th>1</th>\n",
       "      <td>0</td>\n",
       "      <td>1</td>\n",
       "      <td>49</td>\n",
       "      <td>333</td>\n",
       "      <td>1</td>\n",
       "      <td>1</td>\n",
       "      <td>0.500000</td>\n",
       "    </tr>\n",
       "    <tr>\n",
       "      <th>2</th>\n",
       "      <td>0</td>\n",
       "      <td>2</td>\n",
       "      <td>49</td>\n",
       "      <td>693</td>\n",
       "      <td>1</td>\n",
       "      <td>2</td>\n",
       "      <td>0.666667</td>\n",
       "    </tr>\n",
       "    <tr>\n",
       "      <th>3</th>\n",
       "      <td>0</td>\n",
       "      <td>3</td>\n",
       "      <td>49</td>\n",
       "      <td>479</td>\n",
       "      <td>0</td>\n",
       "      <td>2</td>\n",
       "      <td>0.500000</td>\n",
       "    </tr>\n",
       "    <tr>\n",
       "      <th>4</th>\n",
       "      <td>0</td>\n",
       "      <td>4</td>\n",
       "      <td>120</td>\n",
       "      <td>525</td>\n",
       "      <td>0</td>\n",
       "      <td>2</td>\n",
       "      <td>0.400000</td>\n",
       "    </tr>\n",
       "  </tbody>\n",
       "</table>\n",
       "</div>"
      ],
      "text/plain": [
       "   iteration  visit  item_id  visitor_id  reward  total_reward  \\\n",
       "0          0      0      299          12       0             0   \n",
       "1          0      1       49         333       1             1   \n",
       "2          0      2       49         693       1             2   \n",
       "3          0      3       49         479       0             2   \n",
       "4          0      4      120         525       0             2   \n",
       "\n",
       "   fraction_relevant  \n",
       "0           0.000000  \n",
       "1           0.500000  \n",
       "2           0.666667  \n",
       "3           0.500000  \n",
       "4           0.400000  "
      ]
     },
     "execution_count": 18,
     "metadata": {},
     "output_type": "execute_result"
    }
   ],
   "source": [
    "thompson_results_df = pd.DataFrame(thompson_results)\n",
    "thompson_results_df.head()"
   ]
  },
  {
   "cell_type": "markdown",
   "metadata": {},
   "source": [
    "### Save the output"
   ]
  },
  {
   "cell_type": "code",
   "execution_count": 19,
   "metadata": {},
   "outputs": [],
   "source": [
    "thompson_results_df.to_csv('output/thompson_sampling.csv')"
   ]
  },
  {
   "cell_type": "markdown",
   "metadata": {},
   "source": [
    "# Softmax"
   ]
  },
  {
   "cell_type": "code",
   "execution_count": 20,
   "metadata": {},
   "outputs": [],
   "source": [
    "class SoftmaxReplayer:\n",
    "    def __init__(self, tau, n_visits, reward_history, item_col_name, visitor_col_name, reward_col_name):\n",
    "        self.tau = tau  # Temperature parameter\n",
    "        self.n_visits = n_visits\n",
    "        self.reward_history = reward_history\n",
    "        self.item_col_name = item_col_name\n",
    "        self.visitor_col_name = visitor_col_name\n",
    "        self.reward_col_name = reward_col_name\n",
    "\n",
    "    def replay(self):\n",
    "        items = self.reward_history[self.item_col_name].unique()\n",
    "        item_count = len(items)\n",
    "\n",
    "        rewards = np.zeros(item_count)\n",
    "        counts = np.zeros(item_count)\n",
    "        results = []\n",
    "\n",
    "        for visit in range(self.n_visits):\n",
    "            # Compute probabilities using softmax\n",
    "            probabilities = np.exp(rewards / self.tau) / np.sum(np.exp(rewards / self.tau))\n",
    "\n",
    "            # Choose an item based on probabilities\n",
    "            chosen_item = np.random.choice(items, p=probabilities)\n",
    "\n",
    "            # Simulate reward\n",
    "            reward = self.reward_history.query(f\"{self.item_col_name} == @chosen_item\")[self.reward_col_name].sample().iloc[0]\n",
    "\n",
    "            # Update counts and rewards\n",
    "            item_index = np.where(items == chosen_item)[0][0]\n",
    "            counts[item_index] += 1\n",
    "            rewards[item_index] += (reward - rewards[item_index]) / counts[item_index]\n",
    "\n",
    "            # Track cumulative results\n",
    "            cumulative_rewards = np.sum(rewards * counts) / np.sum(counts)\n",
    "            results.append({'visit': visit, 'fraction_relevant': cumulative_rewards})\n",
    "\n",
    "        return results\n"
   ]
  },
  {
   "cell_type": "code",
   "execution_count": 21,
   "metadata": {},
   "outputs": [],
   "source": [
    "def simulate_softmax(n_visits, n_iterations, reward_history, item_col_name, visitor_col_name, reward_col_name, tau):\n",
    "    results = []\n",
    "    for _ in range(n_iterations):\n",
    "        replayer = SoftmaxReplayer(tau, n_visits, reward_history, item_col_name, visitor_col_name, reward_col_name)\n",
    "        results.extend(replayer.replay())\n",
    "    return pd.DataFrame(results)"
   ]
  },
  {
   "cell_type": "code",
   "execution_count": 22,
   "metadata": {},
   "outputs": [],
   "source": [
    "# Simulate Softmax Algorithm\n",
    "softmax_tau = 0.1  # Temperature parameter\n",
    "softmax_results = simulate_softmax(n_visits, n_iterations, reward_history,\n",
    "                                   item_col_name, visitor_col_name, reward_col_name, softmax_tau)\n",
    "\n",
    "# Save results\n",
    "softmax_results_df = pd.DataFrame(softmax_results)\n",
    "softmax_results_df.to_csv(f'output/softmax.csv', index=False)\n",
    "\n",
    "# Average results\n"
   ]
  },
  {
   "cell_type": "code",
   "execution_count": 28,
   "metadata": {},
   "outputs": [],
   "source": [
    "class UCBReplayer:\n",
    "    def __init__(self, c, n_visits, reward_history, item_col_name, visitor_col_name, reward_col_name):\n",
    "        self.c = c  # Exploration parameter\n",
    "        self.n_visits = n_visits\n",
    "        self.reward_history = reward_history\n",
    "        self.item_col_name = item_col_name\n",
    "        self.visitor_col_name = visitor_col_name\n",
    "        self.reward_col_name = reward_col_name\n",
    "\n",
    "    def replay(self):\n",
    "        items = self.reward_history[self.item_col_name].unique()\n",
    "        item_count = len(items)\n",
    "\n",
    "        rewards = np.zeros(item_count)\n",
    "        counts = np.zeros(item_count)\n",
    "        results = []\n",
    "\n",
    "        for visit in range(1, self.n_visits + 1):\n",
    "            # Compute UCB for each item\n",
    "            ucb_values = np.zeros(item_count)\n",
    "            for i in range(item_count):\n",
    "                if counts[i] > 0:\n",
    "                    ucb_values[i] = rewards[i] + self.c * np.sqrt(np.log(visit) / counts[i])\n",
    "                else:\n",
    "                    ucb_values[i] = float('inf')  # Ensure exploration of unvisited items\n",
    "\n",
    "            # Select the item with the highest UCB\n",
    "            chosen_item_index = np.argmax(ucb_values)\n",
    "            chosen_item = items[chosen_item_index]\n",
    "\n",
    "            # Simulate reward\n",
    "            reward = self.reward_history.query(f\"{self.item_col_name} == @chosen_item\")[self.reward_col_name].sample().iloc[0]\n",
    "\n",
    "            # Update counts and rewards\n",
    "            counts[chosen_item_index] += 1\n",
    "            rewards[chosen_item_index] += (reward - rewards[chosen_item_index]) / counts[chosen_item_index]\n",
    "\n",
    "            # Track cumulative results\n",
    "            cumulative_rewards = np.sum(rewards * counts) / np.sum(counts)\n",
    "            results.append({'visit': visit, 'fraction_relevant': cumulative_rewards})\n",
    "\n",
    "        return results\n"
   ]
  },
  {
   "cell_type": "code",
   "execution_count": 29,
   "metadata": {},
   "outputs": [],
   "source": [
    "def simulate_ucb(n_visits, n_iterations, reward_history, item_col_name, visitor_col_name, reward_col_name, c):\n",
    "    results = []\n",
    "    for _ in range(n_iterations):\n",
    "        replayer = UCBReplayer(c, n_visits, reward_history, item_col_name, visitor_col_name, reward_col_name)\n",
    "        results.extend(replayer.replay())\n",
    "    return pd.DataFrame(results)\n"
   ]
  },
  {
   "cell_type": "code",
   "execution_count": 30,
   "metadata": {},
   "outputs": [],
   "source": [
    "# Simulate UCB Algorithm\n",
    "ucb_c = 1.0  # Exploration parameter\n",
    "ucb_results = simulate_ucb(n_visits, n_iterations, reward_history,\n",
    "                           item_col_name, visitor_col_name, reward_col_name, ucb_c)\n",
    "\n",
    "# Save results\n",
    "ucb_results_df = pd.DataFrame(ucb_results)\n",
    "ucb_results_df.to_csv(f'output/ucb.csv', index=False)\n"
   ]
  },
  {
   "cell_type": "markdown",
   "metadata": {},
   "source": [
    "# Compare the results"
   ]
  },
  {
   "cell_type": "markdown",
   "metadata": {},
   "source": [
    "## Average the results across all runs"
   ]
  },
  {
   "cell_type": "code",
   "execution_count": 31,
   "metadata": {},
   "outputs": [],
   "source": [
    "ab_1k_avg_results_df = ab_1k_results_df.groupby('visit', as_index=False).mean()\n",
    "\n",
    "ab_5k_avg_results_df = ab_5k_results_df.groupby('visit', as_index=False).mean()\n",
    "\n",
    "epsilon_05_avg_results_df = epsilon_05_results_df.groupby('visit', as_index=False).mean()\n",
    "\n",
    "epsilon_10_avg_results_df = epsilon_10_results_df.groupby('visit', as_index=False).mean()\n",
    "\n",
    "thompson_avg_results_df = thompson_results_df.groupby('visit', as_index=False).mean()\n",
    "\n",
    "softmax_avg_results_df = softmax_results_df.groupby('visit', as_index=False).mean()\n",
    "\n",
    "ucb_avg_results_df = ucb_results_df.groupby('visit', as_index=False).mean()\n"
   ]
  },
  {
   "cell_type": "markdown",
   "metadata": {},
   "source": [
    "## Plot the output"
   ]
  },
  {
   "cell_type": "code",
   "execution_count": 32,
   "metadata": {},
   "outputs": [],
   "source": [
    "%matplotlib inline\n",
    "from matplotlib import pyplot as plt\n",
    "import seaborn as sns"
   ]
  },
  {
   "cell_type": "code",
   "execution_count": 25,
   "metadata": {},
   "outputs": [],
   "source": [
    "sns.set(font_scale=2.5)"
   ]
  },
  {
   "cell_type": "code",
   "execution_count": 33,
   "metadata": {},
   "outputs": [
    {
     "data": {
      "image/png": "[encoded data removed]",
      "text/plain": [
       "<Figure size 1000x100 with 1 Axes>"
      ]
     },
     "metadata": {},
     "output_type": "display_data"
    }
   ],
   "source": [
    "# using a color-blind friendly palette with 10 colors\n",
    "color_blind_palette_10 = ['#cfcfcf', '#ffbc79', '#a2c8ec', '#898989', '#c85200',\n",
    "                          '#5f9ed1', '#595959', '#ababab', '#ff800e', '#006ba4']\n",
    "\n",
    "sns.palplot(color_blind_palette_10)"
   ]
  },
  {
   "cell_type": "code",
   "execution_count": 35,
   "metadata": {},
   "outputs": [
    {
     "data": {
      "image/png": "[encoded data removed]",
      "text/plain": [
       "<Figure size 1400x1000 with 1 Axes>"
      ]
     },
     "metadata": {},
     "output_type": "display_data"
    }
   ],
   "source": [
    "# Plot Results\n",
    "fig, ax = plt.subplots(figsize=(14, 10))\n",
    "\n",
    "# Define styles and labels for each algorithm\n",
    "styles_and_labels = [\n",
    "    (ab_1k_avg_results_df, 'r-', 'A/B Test (1k Recs)'),\n",
    "    (ab_5k_avg_results_df, 'r--', 'A/B Test (5k Recs)'),\n",
    "    (epsilon_05_avg_results_df, 'b-', '$\\\\epsilon$ = 0.05'),\n",
    "    (epsilon_10_avg_results_df, 'b--', '$\\\\epsilon$ = 0.10'),\n",
    "    (thompson_avg_results_df, 'tab:brown', 'Thompson Sampling'),\n",
    "    (ucb_avg_results_df, 'g-', 'UCB')\n",
    "]\n",
    "\n",
    "# Plot each algorithm's results\n",
    "for avg_results_df, style, label in styles_and_labels:\n",
    "    ax.plot(avg_results_df[\"visit\"], avg_results_df[\"fraction_relevant\"], style, linewidth=2.5, label=label)\n",
    "\n",
    "# Add a line for the optimal value\n",
    "ax.axhline(y=0.5575, color='k', linestyle=':', linewidth=2.5, label='Optimal (Star Wars)')\n",
    "\n",
    "# Enhancing aesthetics\n",
    "ax.set_title('Percentage of Liked Recommendations', fontsize=22, fontweight='bold', color='darkblue')\n",
    "ax.set_xlabel('Recommendation #', fontsize=18, fontweight='bold')\n",
    "ax.set_ylabel('% of Recommendations Liked', fontsize=18, fontweight='bold')\n",
    "\n",
    "# Customizing ticks\n",
    "ax.set_xticks(range(0, 22000, 5000))\n",
    "ax.set_xticklabels([f\"{x:,}\" for x in range(0, 22000, 5000)], fontsize=14, fontweight='bold')\n",
    "ax.set_yticks(np.arange(0.2, 0.7, 0.1))\n",
    "ax.set_yticklabels([f\"{int(y*100)}%\" for y in np.arange(0.2, 0.7, 0.1)], fontsize=14, fontweight='bold')\n",
    "ax.set_ylim(0.2, 0.6)\n",
    "\n",
    "# Adding gridlines for better readability\n",
    "ax.grid(visible=True, linestyle='--', linewidth=0.7, alpha=0.7)\n",
    "\n",
    "# Add legend with improved styling\n",
    "ax.legend(fontsize=14, loc='lower right', frameon=True, shadow=True, title=\"Algorithms\", title_fontsize=16)\n",
    "\n",
    "# Show plot\n",
    "plt.tight_layout()\n",
    "plt.show()\n"
   ]
  }
 ],
 "metadata": {
  "kernelspec": {
   "display_name": "base",
   "language": "python",
   "name": "python3"
  },
  "language_info": {
   "codemirror_mode": {
    "name": "ipython",
    "version": 3
   },
   "file_extension": ".py",
   "mimetype": "text/x-python",
   "name": "python",
   "nbconvert_exporter": "python",
   "pygments_lexer": "ipython3",
   "version": "3.11.8"
  }
 },
 "nbformat": 4,
 "nbformat_minor": 2
}
